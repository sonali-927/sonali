{
  "nbformat": 4,
  "nbformat_minor": 0,
  "metadata": {
    "colab": {
      "provenance": [],
      "authorship_tag": "ABX9TyOxFSs3V62wpaeEJvMhE5vi",
      "include_colab_link": true
    },
    "kernelspec": {
      "name": "python3",
      "display_name": "Python 3"
    },
    "language_info": {
      "name": "python"
    }
  },
  "cells": [
    {
      "cell_type": "markdown",
      "metadata": {
        "id": "view-in-github",
        "colab_type": "text"
      },
      "source": [
        "<a href=\"https://colab.research.google.com/github/sonali-927/sonali/blob/main/password_generate.ipynb\" target=\"_parent\"><img src=\"https://colab.research.google.com/assets/colab-badge.svg\" alt=\"Open In Colab\"/></a>"
      ]
    },
    {
      "cell_type": "code",
      "execution_count": null,
      "metadata": {
        "colab": {
          "base_uri": "https://localhost:8080/"
        },
        "id": "WsQ59TRSbJAq",
        "outputId": "049b8d1e-8019-4342-ea0d-e0ef006cdffc"
      },
      "outputs": [
        {
          "output_type": "stream",
          "name": "stdout",
          "text": [
            "?$uEfSA22DL&\n"
          ]
        }
      ],
      "source": [
        "import secrets\n",
        "import string\n",
        "\n",
        "\n",
        "def create_pw(pw_length=12):\n",
        "   letters = string.ascii_letters\n",
        "   digits = string.digits\n",
        "   special_chars = string.punctuation\n",
        "\n",
        "   alphabet = letters + digits + special_chars\n",
        "   pwd = ''\n",
        "   pw_strong = False\n",
        "\n",
        "   while not pw_strong:\n",
        "       pwd = ''\n",
        "       for i in range(pw_length):\n",
        "           pwd += ''.join(secrets.choice(alphabet))\n",
        "\n",
        "       if (any(char in special_chars for char in pwd) and\n",
        "               sum(char in digits for char in pwd) >= 2):\n",
        "           pw_strong = True\n",
        "\n",
        "   return pwd\n",
        "\n",
        "\n",
        "if __name__ == '__main__':\n",
        "   print(create_pw())"
      ]
    }
  ]
}