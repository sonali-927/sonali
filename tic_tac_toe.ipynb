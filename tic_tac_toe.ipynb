{
  "nbformat": 4,
  "nbformat_minor": 0,
  "metadata": {
    "colab": {
      "provenance": [],
      "authorship_tag": "ABX9TyOMs3KwFSm7STjDvss6Q9ZG",
      "include_colab_link": true
    },
    "kernelspec": {
      "name": "python3",
      "display_name": "Python 3"
    },
    "language_info": {
      "name": "python"
    }
  },
  "cells": [
    {
      "cell_type": "markdown",
      "metadata": {
        "id": "view-in-github",
        "colab_type": "text"
      },
      "source": [
        "<a href=\"https://colab.research.google.com/github/sonali-927/sonali/blob/main/tic_tac_toe.ipynb\" target=\"_parent\"><img src=\"https://colab.research.google.com/assets/colab-badge.svg\" alt=\"Open In Colab\"/></a>"
      ]
    },
    {
      "cell_type": "code",
      "execution_count": null,
      "metadata": {
        "colab": {
          "base_uri": "https://localhost:8080/"
        },
        "id": "nm4QRw6SZPrk",
        "outputId": "a212b3ab-a763-46de-ea11-8adafa25d200"
      },
      "outputs": [
        {
          "metadata": {
            "tags": null
          },
          "name": "stdout",
          "output_type": "stream",
          "text": [
            "- - - \n",
            "- - - \n",
            "- - - \n",
            "\n",
            "Player O turn\n"
          ]
        }
      ],
      "source": [
        "import random\n",
        "\n",
        "\n",
        "class TicTacToe:\n",
        "\n",
        "   def __init__(self):\n",
        "       self.board = []\n",
        "\n",
        "   def create_board(self):\n",
        "       for i in range(3):\n",
        "           row = []\n",
        "           for j in range(3):\n",
        "               row.append('-')\n",
        "           self.board.append(row)\n",
        "\n",
        "   def get_random_first_player(self):\n",
        "       return random.randint(0, 1)\n",
        "\n",
        "   def fix_spot(self, row, col, player):\n",
        "       self.board[row][col] = player\n",
        "\n",
        "   def has_player_won(self, player):\n",
        "       n = len(self.board)\n",
        "       board_values = set()\n",
        "\n",
        "       # check rows\n",
        "       for i in range(n):\n",
        "           for j in range(n):\n",
        "               board_values.add(self.board[i][j])\n",
        "\n",
        "           if board_values == {player}:\n",
        "               return True\n",
        "           else:\n",
        "               board_values.clear()\n",
        "\n",
        "       # check cols\n",
        "       for i in range(n):\n",
        "           for j in range(n):\n",
        "               board_values.add(self.board[j][i])\n",
        "\n",
        "           if board_values == {player}:\n",
        "               return True\n",
        "           else:\n",
        "               board_values.clear()\n",
        "\n",
        "       # check diagonals\n",
        "       for i in range(n):\n",
        "           board_values.add(self.board[i][i])\n",
        "       if board_values == {player}:\n",
        "           return True\n",
        "       else:\n",
        "           board_values.clear()\n",
        "      \n",
        "       board_values.add(self.board[0][2])\n",
        "       board_values.add(self.board[1][1])\n",
        "       board_values.add(self.board[2][0])\n",
        "       if board_values == {player}:\n",
        "           return True\n",
        "       else:\n",
        "           return False\n",
        "\n",
        "   def is_board_filled(self):\n",
        "       for row in self.board:\n",
        "           for item in row:\n",
        "               if item == '-':\n",
        "                   return False\n",
        "       return True\n",
        "\n",
        "   def swap_player_turn(self, player):\n",
        "       return 'X' if player == 'O' else 'O'\n",
        "\n",
        "   def show_board(self):\n",
        "       for row in self.board:\n",
        "           for item in row:\n",
        "               print(item, end=' ')\n",
        "           print()\n",
        "\n",
        "   def start(self):\n",
        "       self.create_board()\n",
        "       player = 'X' if self.get_random_first_player() == 1 else 'O'\n",
        "       game_over = False\n",
        "\n",
        "       while not game_over:\n",
        "           try:\n",
        "               self.show_board()\n",
        "               print(f'\\nPlayer {player} turn')\n",
        "\n",
        "               row, col = list(\n",
        "                   map(int, input(\n",
        "                       'Enter row & column numbers to fix spot: ').split()))\n",
        "               print()\n",
        "\n",
        "               if col is None:\n",
        "                   raise ValueError(\n",
        "                       'not enough values to unpack (expected 2, got 1)')\n",
        "\n",
        "               self.fix_spot(row - 1, col - 1, player)\n",
        "\n",
        "               game_over = self.has_player_won(player)\n",
        "               if game_over:\n",
        "                   print(f'Player {player} wins the game!')\n",
        "                   continue\n",
        "\n",
        "               game_over = self.is_board_filled()\n",
        "               if game_over:\n",
        "                   print('Match Draw!')\n",
        "                   continue\n",
        "\n",
        "               player = self.swap_player_turn(player)\n",
        "\n",
        "           except ValueError as err:\n",
        "               print(err)\n",
        "\n",
        "       print()\n",
        "       self.show_board()\n",
        "\n",
        "\n",
        "if __name__ == '__main__':\n",
        "  tic_tac_toe = TicTacToe()\n",
        "  tic_tac_toe.start()"
      ]
    }
  ]
}