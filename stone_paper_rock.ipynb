{
  "cells": [
    {
      "cell_type": "markdown",
      "metadata": {
        "id": "view-in-github",
        "colab_type": "text"
      },
      "source": [
        "<a href=\"https://colab.research.google.com/github/sonali-927/sonali/blob/main/stone_paper_rock.ipynb\" target=\"_parent\"><img src=\"https://colab.research.google.com/assets/colab-badge.svg\" alt=\"Open In Colab\"/></a>"
      ]
    },
    {
      "cell_type": "code",
      "execution_count": null,
      "metadata": {
        "colab": {
          "background_save": true,
          "base_uri": "https://localhost:8080/"
        },
        "id": "osjbIoBkAT6J",
        "outputId": "735a71a0-9cee-403c-bcba-cec253945206"
      },
      "outputs": [
        {
          "name": "stdout",
          "output_type": "stream",
          "text": [
            "\n",
            "Rock, Paper, Scissors - Shoot!\n"
          ]
        }
      ],
      "source": [
        "import random\n",
        "import os\n",
        "import re\n",
        "\n",
        "\n",
        "def check_play_status():\n",
        "  valid_responses = ['yes', 'no']\n",
        "  while True:\n",
        "      try:\n",
        "          response = input('Do you wish to play again? (Yes or No): ')\n",
        "          if response.lower() not in valid_responses:\n",
        "              raise ValueError('Yes or No only')\n",
        "\n",
        "          if response.lower() == 'yes':\n",
        "              return True\n",
        "          else:\n",
        "              os.system('cls' if os.name == 'nt' else 'clear')\n",
        "              print('Thanks for playing!')\n",
        "              exit()\n",
        "\n",
        "      except ValueError as err:\n",
        "          print(err)\n",
        "\n",
        "\n",
        "def play_rps():\n",
        "   play = True\n",
        "   while play:\n",
        "       os.system('cls' if os.name == 'nt' else 'clear')\n",
        "       print('')\n",
        "       print('Rock, Paper, Scissors - Shoot!')\n",
        "\n",
        "       user_choice = input('Choose your weapon'\n",
        "                           ' [R]ock], [P]aper, or [S]cissors: ')\n",
        "\n",
        "       if not re.match(\"[SsRrPp]\", user_choice):\n",
        "           print('Please choose a letter:')\n",
        "           print('[R]ock, [P]aper, or [S]cissors')\n",
        "           continue\n",
        "\n",
        "       print(f'You chose: {user_choice}')\n",
        "\n",
        "       choices = ['R', 'P', 'S']\n",
        "       opp_choice = random.choice(choices)\n",
        "\n",
        "       print(f'I chose: {opp_choice}')\n",
        "\n",
        "       if opp_choice == user_choice.upper():\n",
        "           print('Tie!')\n",
        "           play = check_play_status()\n",
        "       elif opp_choice == 'R' and user_choice.upper() == 'S':\n",
        "           print('Rock beats scissors, I win!')\n",
        "           play = check_play_status()\n",
        "       elif opp_choice == 'S' and user_choice.upper() == 'P':\n",
        "           print('Scissors beats paper! I win!')\n",
        "           play = check_play_status()\n",
        "       elif opp_choice == 'P' and user_choice.upper() == 'R':\n",
        "           print('Paper beats rock, I win!')\n",
        "           play = check_play_status()\n",
        "       else:\n",
        "           print('You win!\\n')\n",
        "           play = check_play_status()\n",
        "\n",
        "\n",
        "if __name__ == '__main__':\n",
        "   play_rps()"
      ]
    }
  ],
  "metadata": {
    "colab": {
      "provenance": [],
      "authorship_tag": "ABX9TyMLdNbI9GzTAabNLZIUO57e",
      "include_colab_link": true
    },
    "kernelspec": {
      "display_name": "Python 3",
      "name": "python3"
    },
    "language_info": {
      "name": "python"
    }
  },
  "nbformat": 4,
  "nbformat_minor": 0
}